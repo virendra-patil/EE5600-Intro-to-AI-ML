{
  "nbformat": 4,
  "nbformat_minor": 0,
  "metadata": {
    "colab": {
      "name": "EE5600_AI20MTECH01003_Assignment2.ipynb",
      "provenance": [],
      "collapsed_sections": []
    },
    "kernelspec": {
      "name": "python3",
      "display_name": "Python 3"
    },
    "language_info": {
      "name": "python"
    }
  },
  "cells": [
    {
      "cell_type": "code",
      "metadata": {
        "id": "eyPhC1vVnAS6"
      },
      "source": [
        "import numpy as np\n",
        "import matplotlib.pyplot as plt"
      ],
      "execution_count": 43,
      "outputs": []
    },
    {
      "cell_type": "code",
      "metadata": {
        "id": "dWBsN6WCnrtT"
      },
      "source": [
        "#let following vectors represent the point and intercepts through which the line passes\n",
        "a = -1\n",
        "x = 5\n",
        "y = 6\n",
        "A = np.array([a,0])\n",
        "B = np.array([0,-a])\n",
        "C = np.array([x,y])"
      ],
      "execution_count": 44,
      "outputs": []
    },
    {
      "cell_type": "code",
      "metadata": {
        "colab": {
          "base_uri": "https://localhost:8080/",
          "height": 281
        },
        "id": "i_jAWg3IpOI0",
        "outputId": "2c6c92f3-5636-4489-db78-dc84ebf73329"
      },
      "source": [
        "#Generate line points\n",
        "def line_gen(m,n):\n",
        "  len =10\n",
        "  x_mn = np.zeros((2,len))\n",
        "  lam_1 = np.linspace(0,1,len)\n",
        "  for i in range(len):\n",
        "    temp1 = m + lam_1[i]*(n-m)\n",
        "    x_mn[:,i]= temp1.T\n",
        "  return x_mn\n",
        "\n",
        "#Generating all lines\n",
        "lin = line_gen(A,C)\n",
        "\n",
        "\n",
        "#Plotting all lines\n",
        "plt.plot(lin[0,:],lin[1,:],label='$(-1 $ $ 1) $ $X=1$')\n",
        "\n",
        "plt.plot(A[0], A[1], 'o')\n",
        "plt.text(A[0] * (1-0.4), A[1]*(1), '(-1, 0)')\n",
        "plt.plot(B[0], B[1], 'o')\n",
        "plt.text(0.3, B[1]*(1) , '(0,1)')\n",
        "plt.plot(C[0], C[1], 'o')\n",
        "plt.text(C[0] * (1-0.15), C[1]*(1) , '(5,6)')\n",
        "\n",
        "plt.xlabel('$x-axis$')\n",
        "plt.ylabel('$y-axis$')\n",
        "plt.legend(loc='best')\n",
        "plt.grid()\n",
        "plt.savefig('line.png')\n",
        "plt.show()"
      ],
      "execution_count": 45,
      "outputs": [
        {
          "output_type": "display_data",
          "data": {
            "image/png": "[encoded data removed]",
            "text/plain": [
              "<Figure size 432x288 with 1 Axes>"
            ]
          },
          "metadata": {
            "needs_background": "light"
          }
        }
      ]
    }
  ]
}